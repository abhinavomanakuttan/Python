{
  "nbformat": 4,
  "nbformat_minor": 0,
  "metadata": {
    "colab": {
      "provenance": []
    },
    "kernelspec": {
      "name": "python3",
      "display_name": "Python 3"
    },
    "language_info": {
      "name": "python"
    }
  },
  "cells": [
    {
      "cell_type": "markdown",
      "source": [
        "<h2>Question 16"
      ],
      "metadata": {
        "id": "mrHieaAqROCx"
      }
    },
    {
      "cell_type": "markdown",
      "source": [
        "<h4>Question:</h4>\n",
        "Use a list comprehension to square each odd number in a list. The list is input by a sequence of comma-separated numbers. >Suppose the following input is supplied to the program:\n",
        "\n",
        "1,2,3,4,5,6,7,8,9\n",
        "\n",
        "Then, the output should be:\n",
        "\n",
        "1,9,25,49,81\n",
        "\n"
      ],
      "metadata": {
        "id": "6F9nrIruReL0"
      }
    },
    {
      "cell_type": "markdown",
      "source": [
        "<h3>Solutions :"
      ],
      "metadata": {
        "id": "qwV5mSEbm1NA"
      }
    },
    {
      "cell_type": "code",
      "execution_count": null,
      "metadata": {
        "colab": {
          "base_uri": "https://localhost:8080/"
        },
        "id": "4LvpfQdnPlKR",
        "outputId": "b587a3cc-5e8b-449d-dd77-44a2f3668f85"
      },
      "outputs": [
        {
          "output_type": "stream",
          "name": "stdout",
          "text": [
            "1,2,3,4,5,6,7,8,9\n",
            "[1, 9, 25, 49, 81]\n"
          ]
        }
      ],
      "source": [
        "list1 = [int(x) for x in input().split(',')]\n",
        "list2 = [x**2 for x in list1 if x%2 != 0]\n",
        "print(list2)"
      ]
    },
    {
      "cell_type": "markdown",
      "source": [
        "<h4>OR"
      ],
      "metadata": {
        "id": "wd8olgTlSPsu"
      }
    },
    {
      "cell_type": "code",
      "source": [
        "lst = input().split(\",\")  # splits in comma position and set up in list\n",
        "\n",
        "seq = []\n",
        "lst = [int(i) for i in lst]  # converts string to integer\n",
        "for i in lst:\n",
        "    if i % 2 != 0:\n",
        "        i = i * i\n",
        "        seq.append(i)\n",
        "\n",
        "\n",
        "seq = [\n",
        "    str(i) for i in seq\n",
        "]  # All the integers are converted to string to be able to apply join operation\n",
        "print(\",\".join(seq))"
      ],
      "metadata": {
        "colab": {
          "base_uri": "https://localhost:8080/"
        },
        "id": "UL-EbIO8SRjN",
        "outputId": "c65451f7-4c23-4649-8f1c-d932dc90ba3e"
      },
      "execution_count": null,
      "outputs": [
        {
          "output_type": "stream",
          "name": "stdout",
          "text": [
            "1,2,3,4,5,6,7,8,9\n",
            "1,9,25,49,81\n"
          ]
        }
      ]
    },
    {
      "cell_type": "markdown",
      "source": [
        "<h2>Question 17"
      ],
      "metadata": {
        "id": "wAQFhJDOdJFT"
      }
    },
    {
      "cell_type": "markdown",
      "source": [
        "<h5>Question:</h5>\n",
        "Write a program that computes the net amount of a bank account based a transaction log from console input. The transaction log format is shown as following:\n",
        "\n",
        "D 100<br>\n",
        "W 200<br>\n",
        "D means deposit while W means withdrawal.\n",
        "Suppose the following input is supplied to the program:\n",
        "\n",
        "D 300<br>\n",
        "D 300<br>\n",
        "W 200<br>\n",
        "D 100<br>\n",
        "\n",
        "\n",
        "Then, the output should be:\n",
        "\n",
        "500"
      ],
      "metadata": {
        "id": "oQviVjqidOrD"
      }
    },
    {
      "cell_type": "markdown",
      "source": [
        "<h5>Hints:</h5>\n",
        "In case of input data being supplied to the question, it should be assumed to be a console input."
      ],
      "metadata": {
        "id": "Orq0Z4yeYFIt"
      }
    },
    {
      "cell_type": "markdown",
      "source": [
        "<h4>Solution :"
      ],
      "metadata": {
        "id": "dKOlWMyogb1A"
      }
    },
    {
      "cell_type": "code",
      "source": [
        "account = 0\n",
        "while True:\n",
        "    action = input(\"Deposit/Whitdrow/Balance/Quit? D/W/B/Q: \").lower()\n",
        "    if action == \"d\":\n",
        "        deposit = input(\"How much would you like to deposit? \")\n",
        "        account = account + int(deposit)\n",
        "    elif action == \"w\":\n",
        "        withdrow = input(\"How much would you like to withdrow? \")\n",
        "        account = account - int(withdrow)\n",
        "    elif action == \"b\":\n",
        "        print(account)\n",
        "    elif action == \"q\":\n",
        "        print(\"Thanks for banking with us!\")\n",
        "        quit()\n"
      ],
      "metadata": {
        "id": "wGvz_yrqgZru"
      },
      "execution_count": null,
      "outputs": []
    },
    {
      "cell_type": "markdown",
      "source": [
        "<h4>OR"
      ],
      "metadata": {
        "id": "E3wzxVY4hvKq"
      }
    },
    {
      "cell_type": "code",
      "source": [
        "lst = []\n",
        "while True:\n",
        "    x = input()\n",
        "    if len(x) == 0:\n",
        "        break\n",
        "    lst.append(x)\n",
        "\n",
        "balance = 0\n",
        "for item in lst:\n",
        "    if \"D\" in item:\n",
        "        balance += int(item.strip(\"D \"))\n",
        "    if \"W\" in item:\n",
        "        balance -= int(item.strip(\"W \"))\n",
        "print(balance)"
      ],
      "metadata": {
        "id": "1B22FYNihxcC"
      },
      "execution_count": null,
      "outputs": []
    }
  ]
}