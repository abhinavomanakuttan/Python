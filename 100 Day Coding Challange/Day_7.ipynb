{
  "nbformat": 4,
  "nbformat_minor": 0,
  "metadata": {
    "colab": {
      "provenance": []
    },
    "kernelspec": {
      "name": "python3",
      "display_name": "Python 3"
    },
    "language_info": {
      "name": "python"
    }
  },
  "cells": [
    {
      "cell_type": "markdown",
      "source": [
        "<h2>Question 20"
      ],
      "metadata": {
        "id": "Fz1bWlFJBic0"
      }
    },
    {
      "cell_type": "markdown",
      "source": [
        "<h4>Question: </h4>\n",
        "Define a class with a generator which can iterate the numbers, which are divisible by 7, between a given range 0 and n."
      ],
      "metadata": {
        "id": "UN3BMeoHedWW"
      }
    },
    {
      "cell_type": "markdown",
      "source": [
        "<h5>Hints:</h5>\n",
        "Consider use class, function and comprehension."
      ],
      "metadata": {
        "id": "MYdM0GWZejbH"
      }
    },
    {
      "cell_type": "markdown",
      "source": [
        "<h4>Solution\n"
      ],
      "metadata": {
        "id": "RiV0PN7-fRd2"
      }
    },
    {
      "cell_type": "code",
      "execution_count": null,
      "metadata": {
        "id": "Z1VUtLrfBhPY",
        "colab": {
          "base_uri": "https://localhost:8080/"
        },
        "outputId": "a4784a43-1c8d-448f-ff8c-ccbca11b4f1b"
      },
      "outputs": [
        {
          "output_type": "stream",
          "name": "stdout",
          "text": [
            "Please enter a number... 28\n",
            "0\n",
            "7\n",
            "14\n",
            "21\n",
            "28\n"
          ]
        }
      ],
      "source": [
        "class MyGen:\n",
        "    def by_seven(self, n):\n",
        "        for i in range(0, int(n / 7) + 1):\n",
        "            yield i * 7\n",
        "\n",
        "\n",
        "for i in MyGen().by_seven(int(input(\"Please enter a number... \"))):\n",
        "    print(i)"
      ]
    },
    {
      "cell_type": "markdown",
      "source": [
        "<h4>OR"
      ],
      "metadata": {
        "id": "wXuJBlbUggpb"
      }
    },
    {
      "cell_type": "code",
      "source": [
        "class Div_seven:\n",
        "    def __init__(self, input_number):\n",
        "        self.input_number = input_number\n",
        "\n",
        "    def divisible_by_seven(self):\n",
        "        for i in range(0, int(self.input_number / 7) + 1):\n",
        "            yield i * 7\n",
        "\n",
        "for i in Div_seven(int(input(\"Please enter a number... \"))).divisible_by_seven():\n",
        "    print(i)"
      ],
      "metadata": {
        "id": "SErX552GgjX3"
      },
      "execution_count": null,
      "outputs": []
    },
    {
      "cell_type": "markdown",
      "source": [
        "<h2>Question 21"
      ],
      "metadata": {
        "id": "UpClggl1j2MZ"
      }
    },
    {
      "cell_type": "markdown",
      "source": [
        "<h5>Question:</h5>\n",
        "A robot moves in a plane starting from the original point (0,0). The robot can move toward UP, DOWN, LEFT and RIGHT with a given steps. The trace of robot movement is shown as the following:\n",
        "\n",
        "UP 5<br>\n",
        "DOWN 3<br>\n",
        "LEFT 3<br>\n",
        "RIGHT 2<br>\n",
        "\n",
        "<br>\n",
        "\n",
        "The numbers after the direction are steps. Please write a program to compute the distance from current position after a sequence of movement and original point. If the distance is a float, then just print the nearest integer. Example: If the following tuples are given as input to the program:\n",
        "\n",
        "<br>\n",
        "\n",
        "UP 5<br>\n",
        "DOWN 3<br>\n",
        "LEFT 3<br>\n",
        "RIGHT 2<br>\n",
        "\n",
        "Then, the output of the program should be: <br>\n",
        "\n",
        "2"
      ],
      "metadata": {
        "id": "n1oCvSsAj6yY"
      }
    },
    {
      "cell_type": "markdown",
      "source": [
        "<h5>Hints:</h5>\n",
        "In case of input data being supplied to the question, it should be assumed to be a console input.Here distance indicates to euclidean distance.Import math module to use sqrt function."
      ],
      "metadata": {
        "id": "q4GhkH7XpBUQ"
      }
    },
    {
      "cell_type": "markdown",
      "source": [
        "<h4>Solutions:\n",
        "\n"
      ],
      "metadata": {
        "id": "i3hdU-3x8vj2"
      }
    },
    {
      "cell_type": "code",
      "source": [
        "import math\n",
        "\n",
        "x, y = 0, 0\n",
        "while True:\n",
        "    s = input().split()\n",
        "\n",
        "    if not s:\n",
        "        break\n",
        "    if s[0] == \"UP\":  # s[0] indicates command\n",
        "        x -= int(s[1])  # s[1] indicates unit of move\n",
        "    if s[0] == \"DOWN\":\n",
        "        x += int(s[1])\n",
        "    if s[0] == \"LEFT\":\n",
        "        y -= int(s[1])\n",
        "    if s[0] == \"RIGHT\":\n",
        "        y += int(s[1])\n",
        "        # N**P means N^P\n",
        "dist = round(\n",
        "    math.sqrt(x ** 2 + y ** 2)\n",
        ")  # euclidean distance = square root of (x^2+y^2) and rounding it to nearest integer\n",
        "print(dist)"
      ],
      "metadata": {
        "id": "Aw6LwvUHkid3"
      },
      "execution_count": null,
      "outputs": []
    },
    {
      "cell_type": "markdown",
      "source": [
        "<h3>OR"
      ],
      "metadata": {
        "id": "Gkq08uIq_jZ4"
      }
    },
    {
      "cell_type": "code",
      "source": [
        "import math\n",
        "\n",
        "def calculate_distance(movements):\n",
        "    x, y = 0, 0  # starting at the origin (0,0)\n",
        "\n",
        "    for direction, steps in movements:\n",
        "        if direction == 'UP':\n",
        "            y += steps\n",
        "        elif direction == 'DOWN':\n",
        "            y -= steps\n",
        "        elif direction == 'LEFT':\n",
        "            x -= steps\n",
        "        elif direction == 'RIGHT':\n",
        "            x += steps\n",
        "\n",
        "    # Calculate the Euclidean distance from (0,0) to (x,y)\n",
        "    distance = math.sqrt(x**2 + y**2)\n",
        "\n",
        "    # Return the nearest integer\n",
        "    return round(distance)\n",
        "\n",
        "# Example input\n",
        "movements = [\n",
        "    ('UP', 5),\n",
        "    ('DOWN', 3),\n",
        "    ('LEFT', 3),\n",
        "    ('RIGHT', 2)\n",
        "]\n",
        "\n",
        "# Calculate and print the distance\n",
        "print(calculate_distance(movements))\n"
      ],
      "metadata": {
        "colab": {
          "base_uri": "https://localhost:8080/"
        },
        "id": "IlU2_bQl_ld6",
        "outputId": "48f076f7-dd8e-4c57-f8e0-cbec0c4a8785"
      },
      "execution_count": 9,
      "outputs": [
        {
          "output_type": "stream",
          "name": "stdout",
          "text": [
            "2\n"
          ]
        }
      ]
    }
  ]
}