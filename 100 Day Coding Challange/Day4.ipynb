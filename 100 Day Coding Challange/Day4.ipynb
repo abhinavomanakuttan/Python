{
  "nbformat": 4,
  "nbformat_minor": 0,
  "metadata": {
    "colab": {
      "provenance": []
    },
    "kernelspec": {
      "name": "python3",
      "display_name": "Python 3"
    },
    "language_info": {
      "name": "python"
    }
  },
  "cells": [
    {
      "cell_type": "markdown",
      "source": [
        "<h1>Question 14"
      ],
      "metadata": {
        "id": "SdQmnEinVtGG"
      }
    },
    {
      "cell_type": "markdown",
      "source": [
        "<h5>Question:</h5>\n",
        "Write a program that accepts a sentence and calculate the number of upper case letters and lower case letters.\n",
        "\n",
        "Suppose the following input is supplied to the program:\n",
        "\n",
        "<br>\n",
        "\n",
        "Hello world!\n",
        "\n",
        "<br>\n",
        "\n",
        "Then, the output should be:\n",
        "\n",
        "<br>\n",
        "\n",
        "UPPER CASE 1\n",
        "\n",
        "LOWER CASE 9"
      ],
      "metadata": {
        "id": "mrSslw6iVvW1"
      }
    },
    {
      "cell_type": "markdown",
      "source": [
        "<h6>Hints:</h6>\n",
        "In case of input data being supplied to the question, it should be assumed to be a console input."
      ],
      "metadata": {
        "id": "jZ6UTQuZWgVE"
      }
    },
    {
      "cell_type": "markdown",
      "source": [
        "<h6>Solutions :"
      ],
      "metadata": {
        "id": "N3tokfJOWm9w"
      }
    },
    {
      "cell_type": "code",
      "execution_count": null,
      "metadata": {
        "id": "Zx1DBBs-Vnqd"
      },
      "outputs": [],
      "source": [
        "txt = input(\"Enter the string : \")\n",
        "upper = 0\n",
        "lower = 0\n",
        "for i in txt:\n",
        "  if(\"a\"<=i<=\"z\"):\n",
        "    lower+=1\n",
        "  elif(\"A\"<=i<=\"Z\"):\n",
        "    upper+=1\n",
        "print(\"UPPER CASE\",upper)\n",
        "print(\"LOWER CASE\",lower)"
      ]
    },
    {
      "cell_type": "markdown",
      "source": [
        "<h4>OR"
      ],
      "metadata": {
        "id": "NmxGmQywXCgz"
      }
    },
    {
      "cell_type": "code",
      "source": [
        "word = input(\"Enter the string : \")\n",
        "upper, lower = 0, 0\n",
        "\n",
        "for i in word:\n",
        "    lower += i.islower()\n",
        "    upper += i.isupper()\n",
        "\n",
        "print(\"UPPER CASE {0}\\nLOWER CASE {1}\".format(upper, lower))"
      ],
      "metadata": {
        "id": "eRijYuGvXGLg"
      },
      "execution_count": null,
      "outputs": []
    },
    {
      "cell_type": "markdown",
      "source": [
        "<h5>OR"
      ],
      "metadata": {
        "id": "wAGfp8XvXdHs"
      }
    },
    {
      "cell_type": "code",
      "source": [
        "word = input()\n",
        "upper = sum(1 for i in word if i.isupper())\n",
        "# sum function cumulatively sum up 1's if the condition is True\n",
        "lower = sum(1 for i in word if i.islower())\n",
        "\n",
        "print(\"UPPER CASE {0}\\nLOWER CASE {1}\".format(upper, lower))"
      ],
      "metadata": {
        "id": "lKCo2FniXgLu"
      },
      "execution_count": null,
      "outputs": []
    },
    {
      "cell_type": "markdown",
      "source": [
        "\n",
        "<br>\n",
        "\n",
        "<h2>Question 15"
      ],
      "metadata": {
        "id": "lJjdiHJwn797"
      }
    },
    {
      "cell_type": "markdown",
      "source": [
        "<h5>Question:</h5>\n",
        "\n",
        "Write a program that computes the value of a+aa+aaa+aaaa with a given digit as the value of a.\n",
        "\n",
        "Suppose the following input is supplied to the program:\n",
        "\n",
        "9\n",
        "<br>Eg: (9+99+999+9999)\n",
        "<br>\n",
        "\n",
        "Then, the output should be:\n",
        "\n",
        "11106"
      ],
      "metadata": {
        "id": "ibVoRkPaoGpY"
      }
    },
    {
      "cell_type": "markdown",
      "source": [
        "<h6>Hints:</h6>\n",
        "In case of input data being supplied to the question, it should be assumed to be a console input."
      ],
      "metadata": {
        "id": "QJMdu-JMoUhl"
      }
    },
    {
      "cell_type": "markdown",
      "source": [
        "<h4>Solutions"
      ],
      "metadata": {
        "id": "IfGaXD3hpNn9"
      }
    },
    {
      "cell_type": "code",
      "source": [
        "a=int(input())\n",
        "temp=0\n",
        "sum=0\n",
        "for i in range(1,5):\n",
        "  temp=temp*10+a\n",
        "  sum=sum+temp\n",
        "print(sum)\n",
        "\n",
        "''' case 1:\n",
        "        line 5-> 0 = 0 +9\n",
        "        line 6-> 0 = 0 + 9\n",
        "    case 2:\n",
        "        line 5-> 9 = 90 +9\n",
        "        line 6-> 108 = 9 + 99\n",
        "    case 3:\n",
        "        line 5-> 99 = 990 +9\n",
        "        line 6-> 1107 = 108 + 999\n",
        "    case 4:\n",
        "      line 5-> 999 = 9990 +9\n",
        "      line 6-> 11106 = 1107 + 9999\n",
        "'''\n",
        ""
      ],
      "metadata": {
        "colab": {
          "base_uri": "https://localhost:8080/"
        },
        "id": "UywQnclF5GQL",
        "outputId": "6fe726f8-3e09-4068-8db5-89ad10e8d50d"
      },
      "execution_count": 13,
      "outputs": [
        {
          "output_type": "stream",
          "name": "stdout",
          "text": [
            "9\n",
            "11106\n"
          ]
        }
      ]
    },
    {
      "cell_type": "markdown",
      "source": [
        "<h4>OR"
      ],
      "metadata": {
        "id": "cHck5XwMrMjv"
      }
    },
    {
      "cell_type": "code",
      "source": [
        "a = input()\n",
        "total, tmp = 0, str()  # initialing an integer and empty string\n",
        "\n",
        "for i in range(4):\n",
        "    tmp += a  # concatenating 'a' to 'tmp'\n",
        "    total += int(tmp)  # converting string type to integer type\n",
        "\n",
        "print(total)"
      ],
      "metadata": {
        "colab": {
          "base_uri": "https://localhost:8080/"
        },
        "id": "NGt5_v23rLw1",
        "outputId": "027fc187-60ef-437e-83a9-fe6360aa32be"
      },
      "execution_count": null,
      "outputs": [
        {
          "output_type": "stream",
          "name": "stdout",
          "text": [
            "9\n",
            "11106\n"
          ]
        }
      ]
    },
    {
      "cell_type": "markdown",
      "source": [
        "<h4>OR"
      ],
      "metadata": {
        "id": "gKVcLh1Kr1Dq"
      }
    },
    {
      "cell_type": "code",
      "source": [
        "a = input()\n",
        "total = int(a) + int(2*a) + int(3*a) + int(4*a)  # N*a=Na, for example\n",
        "# a=\"23\", 2*a=\"2323\",3*a=\"232323\"\n",
        "\n",
        "print(total)"
      ],
      "metadata": {
        "id": "ZZQPHdp4r3oF",
        "colab": {
          "base_uri": "https://localhost:8080/"
        },
        "outputId": "07f48c08-3e5c-4f02-ad49-74797341e541"
      },
      "execution_count": 1,
      "outputs": [
        {
          "output_type": "stream",
          "name": "stdout",
          "text": [
            "9\n",
            "11106\n"
          ]
        }
      ]
    }
  ]
}