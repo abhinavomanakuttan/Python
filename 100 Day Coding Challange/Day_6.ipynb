{
  "nbformat": 4,
  "nbformat_minor": 0,
  "metadata": {
    "colab": {
      "provenance": []
    },
    "kernelspec": {
      "name": "python3",
      "display_name": "Python 3"
    },
    "language_info": {
      "name": "python"
    }
  },
  "cells": [
    {
      "cell_type": "markdown",
      "source": [
        "<h2>Question 18"
      ],
      "metadata": {
        "id": "gTgcrbsNsunS"
      }
    },
    {
      "cell_type": "markdown",
      "source": [
        "Question:\n",
        "A website requires the users to input username and password to register. Write a program to check the validity of password input by users.\n",
        "\n",
        "Following are the criteria for checking the password:\n",
        "\n",
        "At least 1 letter between [a-z]<br>\n",
        "At least 1 number between [0-9]<br>\n",
        "At least 1 letter between [A-Z]<br>\n",
        "At least 1 character from [$#@]<br>\n",
        "Minimum length of transaction password: 6<br>\n",
        "Maximum length of transaction password: 12\n",
        "\n",
        "<br>\n",
        "\n",
        "Your program should accept a sequence of comma separated passwords and will check them according to the above criteria. Passwords that match the criteria are to be printed, each separated by a comma.\n",
        "\n",
        "<br>\n",
        "\n",
        "Example <br>\n",
        "\n",
        "If the following passwords are given as input to the program:\n",
        "\n",
        "<br>\n",
        "\n",
        "ABd1234@1,a F1#,2w3E*,2We3345\n",
        "\n",
        "Then, the output of the program should be:\n",
        "\n",
        "ABd1234@1"
      ],
      "metadata": {
        "id": "yPDbEeGoszIv"
      }
    },
    {
      "cell_type": "markdown",
      "source": [
        "Hints:\n",
        "<br>\n",
        "In case of input data being supplied to the question, it should be assumed to be a console input.\n",
        "\n"
      ],
      "metadata": {
        "id": "6-oDHvc0tkpp"
      }
    },
    {
      "cell_type": "code",
      "execution_count": 3,
      "metadata": {
        "id": "AZ40IfWunE_N",
        "colab": {
          "base_uri": "https://localhost:8080/"
        },
        "outputId": "a51c4a54-85e5-4359-9d77-98dbbb1a0cc8"
      },
      "outputs": [
        {
          "output_type": "stream",
          "name": "stdout",
          "text": [
            "ABd1234@1,a F1#,2w3E*,2We3345\n",
            "ABd1234@1\n"
          ]
        }
      ],
      "source": [
        "def is_low(x):  # Returns True  if the string has a lowercase\n",
        "    for i in x:\n",
        "        if \"a\" <= i and i <= \"z\":\n",
        "            return True\n",
        "    return False\n",
        "\n",
        "\n",
        "def is_up(x):  # Returns True  if the string has a uppercase\n",
        "    for i in x:\n",
        "        if \"A\" <= i and i <= \"Z\":\n",
        "            return True\n",
        "    return False\n",
        "\n",
        "\n",
        "def is_num(x):  # Returns True  if the string has a numeric digit\n",
        "    for i in x:\n",
        "        if \"0\" <= i and i <= \"9\":\n",
        "            return True\n",
        "    return False\n",
        "\n",
        "\n",
        "def is_other(x):  # Returns True if the string has any \"$#@\"\n",
        "    for i in x:\n",
        "        if i == \"$\" or i == \"#\" or i == \"@\":\n",
        "            return True\n",
        "    return False\n",
        "\n",
        "s = input().split(\",\")\n",
        "lst = []\n",
        "\n",
        "for i in s:\n",
        "    length = len(i)\n",
        "    if (\n",
        "        6 <= length\n",
        "        and length <= 12\n",
        "        and is_low(i)\n",
        "        and is_up(i)\n",
        "        and is_num(i)\n",
        "        and is_other(i)\n",
        "    ):  # Checks if all the requirments are fulfilled\n",
        "        lst.append(i)\n",
        "\n",
        "print(\",\".join(lst))"
      ]
    },
    {
      "cell_type": "markdown",
      "source": [
        "<h4>OR"
      ],
      "metadata": {
        "id": "6T_hLgJh1VLx"
      }
    },
    {
      "cell_type": "code",
      "source": [
        "def check(x):\n",
        "    cnt = 6 <= len(x) and len(x) <= 12\n",
        "    for i in x:\n",
        "        if i.isupper():\n",
        "            cnt += 1\n",
        "            break\n",
        "    for i in x:\n",
        "        if i.islower():\n",
        "            cnt += 1\n",
        "            break\n",
        "    for i in x:\n",
        "        if i.isnumeric():\n",
        "            cnt += 1\n",
        "            break\n",
        "    for i in x:\n",
        "        if i == \"@\" or i == \"#\" or i == \"$\":\n",
        "            cnt += 1\n",
        "            break\n",
        "    return (\n",
        "        cnt == 5\n",
        "    )  # counting if total 5 all conditions are fulfilled then returns True\n",
        "\n",
        "\n",
        "s = input().split(\",\")\n",
        "lst = filter(\n",
        "    check, s\n",
        ")  # Filter function pick the words from s, those returns True by check() function\n",
        "print(\",\".join(lst))"
      ],
      "metadata": {
        "id": "0HnJ8evU1XmZ"
      },
      "execution_count": null,
      "outputs": []
    },
    {
      "cell_type": "markdown",
      "source": [
        "<h2>Question 19\n"
      ],
      "metadata": {
        "id": "K1pdJi_327mY"
      }
    },
    {
      "cell_type": "markdown",
      "source": [
        "Question:<br>\n",
        "You are required to write a program to sort the (name, age, score) tuples by ascending order where name is string, age and score are numbers. The tuples are input by console. The sort criteria is:<br>\n",
        "\n",
        "1: Sort based on name<br>\n",
        "2: Then sort based on age<br>\n",
        "3: Then sort by score<br>\n",
        "\n",
        "The priority is that name > age > score.<br>\n",
        "\n",
        "<br>\n",
        "\n",
        "If the following tuples are given as input to the program:\n",
        "<br>\n",
        "\n",
        "Tom,19,80\n",
        "\n",
        "John,20,90\n",
        "\n",
        "Jony,17,91\n",
        "\n",
        "Jony,17,93\n",
        "\n",
        "Json,21,85\n",
        "\n",
        "Then, the output of the program should be:\n",
        "\n",
        "<br>\n",
        "\n",
        "[('John', '20', '90'), ('Jony', '17', '91'), ('Jony', '17', '93'), ('Json', '21', '85'), ('Tom', '19', '80')]\n",
        "\n",
        "<br>\n"
      ],
      "metadata": {
        "id": "DqPioAdW3ImA"
      }
    },
    {
      "cell_type": "markdown",
      "source": [
        "Hints:<br>\n",
        "In case of input data being supplied to the question, it should be assumed to be a console input.We use itemgetter to enable multiple sort keys."
      ],
      "metadata": {
        "id": "iipGn4Dc3pYn"
      }
    },
    {
      "cell_type": "code",
      "source": [
        "lst = []\n",
        "while True:\n",
        "    s = input().split(\",\")\n",
        "    if not s[0]:  # breaks for blank input\n",
        "        break\n",
        "    lst.append(tuple(s))\n",
        "\n",
        "lst.sort(\n",
        "    key=lambda x: (x[0], x[1], x[2])\n",
        ")  # here key is defined by lambda and the data is sorted by element priority 0>1>2 in accending order\n",
        "print(lst)"
      ],
      "metadata": {
        "colab": {
          "base_uri": "https://localhost:8080/"
        },
        "id": "DZJeHdUY33Vh",
        "outputId": "e3270778-bf33-45bb-ab27-86e0fde1bdf6"
      },
      "execution_count": 5,
      "outputs": [
        {
          "output_type": "stream",
          "name": "stdout",
          "text": [
            "Tom,19,80  \n",
            "John,20,90 \n",
            "  Jony,17,91  \n",
            " Json,21,85\n",
            "\n",
            "[('  Jony', '17', '91  '), (' Json', '21', '85'), ('John', '20', '90 '), ('Tom', '19', '80  ')]\n"
          ]
        }
      ]
    }
  ]
}