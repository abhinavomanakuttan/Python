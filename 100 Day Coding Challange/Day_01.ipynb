{
  "nbformat": 4,
  "nbformat_minor": 0,
  "metadata": {
    "colab": {
      "provenance": []
    },
    "kernelspec": {
      "name": "python3",
      "display_name": "Python 3"
    },
    "language_info": {
      "name": "python"
    }
  },
  "cells": [
    {
      "cell_type": "markdown",
      "source": [
        "<h1>Day 1"
      ],
      "metadata": {
        "id": "4mfNfL0Xzeu5"
      }
    },
    {
      "cell_type": "markdown",
      "source": [
        "<h2>Question and their solutions"
      ],
      "metadata": {
        "id": "xli3AgikzlgG"
      }
    },
    {
      "cell_type": "markdown",
      "source": [
        "<h4>Question 1\n"
      ],
      "metadata": {
        "id": "C3Ndfpym6MxF"
      }
    },
    {
      "cell_type": "markdown",
      "source": [
        "Question1:<br>\n",
        "Write a program which will find all such numbers which are divisible by 7 but are not a multiple of 5, between 2000 and 3200 (both included).The numbers obtained should be printed in a comma-separated sequence on a single line.\n",
        "\n",
        "Hints: num / 7=0 and\n",
        "       num / 5!=0\n"
      ],
      "metadata": {
        "id": "1sLhdq2pzenA"
      }
    },
    {
      "cell_type": "markdown",
      "source": [
        "<h4>Solutions"
      ],
      "metadata": {
        "id": "3Gb-hCD98tby"
      }
    },
    {
      "cell_type": "code",
      "execution_count": null,
      "metadata": {
        "id": "0TMeROY5zU3R"
      },
      "outputs": [],
      "source": [
        "for i in range(2000,3201):\n",
        "  if i%7==0 and i%5 != 0:\n",
        "    print(i,\",\",end=\"\")\n",
        "print(\"\\b\")"
      ]
    },
    {
      "cell_type": "markdown",
      "source": [
        "* Using generators and list comprehension"
      ],
      "metadata": {
        "id": "AvcPhA_HzaLP"
      }
    },
    {
      "cell_type": "code",
      "source": [
        "print(*(i for i in range (2000,3201) if i%7 ==0 and i%5!=0),sep=\",\")"
      ],
      "metadata": {
        "colab": {
          "base_uri": "https://localhost:8080/"
        },
        "id": "j_FPUy4709HX",
        "outputId": "727d5792-e78c-47b3-f452-7b22c14d2c8c"
      },
      "execution_count": 5,
      "outputs": [
        {
          "output_type": "stream",
          "name": "stdout",
          "text": [
            "2002,2009,2016,2023,2037,2044,2051,2058,2072,2079,2086,2093,2107,2114,2121,2128,2142,2149,2156,2163,2177,2184,2191,2198,2212,2219,2226,2233,2247,2254,2261,2268,2282,2289,2296,2303,2317,2324,2331,2338,2352,2359,2366,2373,2387,2394,2401,2408,2422,2429,2436,2443,2457,2464,2471,2478,2492,2499,2506,2513,2527,2534,2541,2548,2562,2569,2576,2583,2597,2604,2611,2618,2632,2639,2646,2653,2667,2674,2681,2688,2702,2709,2716,2723,2737,2744,2751,2758,2772,2779,2786,2793,2807,2814,2821,2828,2842,2849,2856,2863,2877,2884,2891,2898,2912,2919,2926,2933,2947,2954,2961,2968,2982,2989,2996,3003,3017,3024,3031,3038,3052,3059,3066,3073,3087,3094,3101,3108,3122,3129,3136,3143,3157,3164,3171,3178,3192,3199\n"
          ]
        }
      ]
    },
    {
      "cell_type": "markdown",
      "source": [
        "<br>\n",
        "\n",
        "<h3>Question 2\n",
        "\n",
        "<br>"
      ],
      "metadata": {
        "id": "8J--HEwG6bb1"
      }
    },
    {
      "cell_type": "markdown",
      "source": [
        "Question 2:<br>\n",
        "Write a program which can compute the factorial of a given numbers.The results should be printed in a comma-separated sequence on a single line.Suppose the following input is supplied to the program: 5 Then, the output should be:120\n",
        "\n"
      ],
      "metadata": {
        "id": "PXINr7_R1tH3"
      }
    },
    {
      "cell_type": "markdown",
      "source": [
        "<h4>Solutions"
      ],
      "metadata": {
        "id": "0cgYFcBs8mgQ"
      }
    },
    {
      "cell_type": "markdown",
      "source": [
        "<h4>Using While loop"
      ],
      "metadata": {
        "id": "9SIq5j4Y4Ozz"
      }
    },
    {
      "cell_type": "code",
      "source": [
        "\n",
        "n = int(input(\"Enter a number\"))  # input() function takes input as string type\n",
        "# int() converts it to integer type\n",
        "fact = 1\n",
        "i = 1\n",
        "while i <= n:\n",
        "    fact = fact * i\n",
        "    i = i + 1\n",
        "print(f\"Factorial of {n} is {fact}\")"
      ],
      "metadata": {
        "colab": {
          "base_uri": "https://localhost:8080/"
        },
        "id": "Dr-rI4uz15pj",
        "outputId": "eff99d2e-a2a4-444f-d602-8bf753f1a10d"
      },
      "execution_count": 12,
      "outputs": [
        {
          "output_type": "stream",
          "name": "stdout",
          "text": [
            "Enter a number5\n",
            "120\n"
          ]
        }
      ]
    },
    {
      "cell_type": "markdown",
      "source": [
        "<h4>Using for loop<h4>"
      ],
      "metadata": {
        "id": "4IjPpx2p4AVb"
      }
    },
    {
      "cell_type": "code",
      "source": [
        "n=int(input(\"Enter the number: \"))\n",
        "fact=1\n",
        "for i in range(1,n+1):\n",
        "  fact=fact*i\n",
        "\n",
        "print(f\"Factorial of {n} is {fact}\")"
      ],
      "metadata": {
        "colab": {
          "base_uri": "https://localhost:8080/"
        },
        "id": "stSXe_1v37R_",
        "outputId": "1c2f5068-c433-434e-d21a-f7c77d0262c2"
      },
      "execution_count": 14,
      "outputs": [
        {
          "output_type": "stream",
          "name": "stdout",
          "text": [
            "Enter the number: 5\n",
            "Factorial of 5 is 120\n"
          ]
        }
      ]
    },
    {
      "cell_type": "markdown",
      "source": [
        "<h4>Using lamnda Function\n",
        "<br>"
      ],
      "metadata": {
        "id": "oA55TD0m5HJP"
      }
    },
    {
      "cell_type": "code",
      "source": [
        "n=int(input(\"Enter the number: \"))\n",
        "fact=lambda n:1 if n==0 else n*fact(n-1)"
      ],
      "metadata": {
        "id": "RvlMAt-o5Xf7"
      },
      "execution_count": null,
      "outputs": []
    },
    {
      "cell_type": "markdown",
      "source": [
        "<h1>Question 3"
      ],
      "metadata": {
        "id": "DnBlxZBW5x9F"
      }
    },
    {
      "cell_type": "markdown",
      "source": [
        "Queston 3:<br>\n",
        "With a given integral number n, write a program to generate a dictionary that contains (i, i x i) such that is an integral number between 1 and n (both included). and then the program should print the dictionary.Suppose the following input is supplied to the program: 8\n",
        "\n",
        "Then, the output should be:\n",
        "\n",
        "{1: 1, 2: 4, 3: 9, 4: 16, 5: 25, 6: 36, 7: 49, 8: 64}\n"
      ],
      "metadata": {
        "id": "DpLQco1q57Nc"
      }
    },
    {
      "cell_type": "markdown",
      "source": [
        "Hints:<br>\n",
        "In case of input data being supplied to the question, it shouls be assumed to be a consloe input.Consider use dict()"
      ],
      "metadata": {
        "id": "9OMOJk7i7y2i"
      }
    },
    {
      "cell_type": "markdown",
      "source": [
        "<br>\n",
        "<h4>Solutions:"
      ],
      "metadata": {
        "id": "A5ajB-1B8T51"
      }
    },
    {
      "cell_type": "markdown",
      "source": [
        "<h5>Using for loop"
      ],
      "metadata": {
        "id": "QxcxEWf98ZeS"
      }
    },
    {
      "cell_type": "code",
      "source": [
        "n=int(input(\"Enter the number: \"))\n",
        "ans={}\n",
        "for i in range(1,n+1):\n",
        "  ans[i]=i * i\n",
        "print(ans)"
      ],
      "metadata": {
        "colab": {
          "base_uri": "https://localhost:8080/"
        },
        "id": "PruG5gNP62E8",
        "outputId": "8949fc0e-9bf6-4cc6-bf27-279554a19bbb"
      },
      "execution_count": 16,
      "outputs": [
        {
          "output_type": "stream",
          "name": "stdout",
          "text": [
            "Enter the number5\n",
            "{1: 1, 2: 4, 3: 9, 4: 16, 5: 25}\n"
          ]
        }
      ]
    },
    {
      "cell_type": "markdown",
      "source": [
        "<h4>Using dictionary comprehension"
      ],
      "metadata": {
        "id": "X4lpqD2w80q_"
      }
    },
    {
      "cell_type": "code",
      "source": [
        "n=int(input(\"Enter the number: \"))\n",
        "ans={i :i * i for i in range(i,n+1)}\n",
        "print(ans)"
      ],
      "metadata": {
        "colab": {
          "base_uri": "https://localhost:8080/"
        },
        "id": "wkIu4yNe8zxN",
        "outputId": "38892aa9-e43e-4e3b-cc6c-92cb021bf561"
      },
      "execution_count": 18,
      "outputs": [
        {
          "output_type": "stream",
          "name": "stdout",
          "text": [
            "Enter the number5\n",
            "{5: 25}\n"
          ]
        }
      ]
    }
  ]
}