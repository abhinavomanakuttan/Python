{
  "cells": [
    {
      "cell_type": "markdown",
      "metadata": {
        "id": "NCm28_xjAsDp"
      },
      "source": [
        "<h2>Question 4"
      ]
    },
    {
      "cell_type": "markdown",
      "metadata": {
        "id": "FrE56_9dAz_4"
      },
      "source": [
        "Question:<br>\n",
        "Write a program which accepts a sequence of comma-separated numbers from console and generate a list and a tuple which contains every number.Suppose the following input is supplied to the program:\n",
        "\n",
        "37,67,55,33,12,98\n",
        "\n",
        "Then the output should be:\n",
        "['34', '67', '55', '33', '12', '98'] <br>\n",
        "('34', '67', '55', '33', '12', '98')\n"
      ]
    },
    {
      "cell_type": "markdown",
      "metadata": {
        "id": "NFJyhunCBhrM"
      },
      "source": [
        "Hint:<br>\n",
        "    In case of input data being supplied to the question, it should be assumed to be a console input.tuple() method can convert list to tuple\n",
        "\n"
      ]
    },
    {
      "cell_type": "code",
      "execution_count": null,
      "metadata": {
        "colab": {
          "base_uri": "https://localhost:8080/"
        },
        "id": "bq4gxPPW-e1L",
        "outputId": "aa5cb4ec-5d12-4eb2-def1-1111d43af53c"
      },
      "outputs": [
        {
          "name": "stdout",
          "output_type": "stream",
          "text": [
            "34,67,55,33,12,98\n",
            "['34', '67', '55', '33', '12', '98']\n",
            "('34', '67', '55', '33', '12', '98')\n"
          ]
        }
      ],
      "source": [
        "lst = input().split(\",\")\n",
        "'''the input is being taken as string and as it is string it has a built in\n",
        "   method name split. ',' inside split function does split where it finds any ','\n",
        "   and save the input as list in lst variable'''\n",
        "\n",
        "tup =tuple(lst) # tuple method converts list to tuple\n",
        "\n",
        "print(lst)# for printing list\n",
        "\n",
        "print(tup)# for printing tuplr\n"
      ]
    },
    {
      "cell_type": "markdown",
      "metadata": {
        "id": "iCMH_-ecDKIH"
      },
      "source": [
        "<h2>Question 5\n",
        "\n",
        "<br>   "
      ]
    },
    {
      "cell_type": "markdown",
      "metadata": {
        "id": "u-7hI-p-DXAu"
      },
      "source": [
        "<h3>Question:<br>\n",
        "Define a class which has at least two methods:\n",
        "\n",
        "▪ getString: to get a string from console input<br>\n",
        "\n",
        "  ▪ printString: to print the string in upper case.\n",
        "  <br><br>\n",
        "  Also please include simple test function to test the class methods.\n",
        "\n",
        "Hints:<br>\n",
        "_Use **init method to construct some parameters_**"
      ]
    },
    {
      "cell_type": "code",
      "execution_count": null,
      "metadata": {
        "colab": {
          "background_save": true,
          "base_uri": "https://localhost:8080/"
        },
        "id": "UUPA0JftFKIS",
        "outputId": "7d1eee39-6c9d-4891-cd78-15318cbeba7a"
      },
      "outputs": [
        {
          "name": "stdout",
          "output_type": "stream",
          "text": [
            "ABCD\n"
          ]
        }
      ],
      "source": [
        "class Mystring:\n",
        "  def __init__(self):\n",
        "    pass\n",
        "  def get_string(self):\n",
        "    self.s=input(\"Enter the string:\")\n",
        "\n",
        "  def print_string(self):\n",
        "    print(self.s.upper())\n",
        "\n",
        "\n",
        "xx = Mystring()\n",
        "xx.get_string()\n",
        "xx.print_string()"
      ]
    },
    {
      "cell_type": "markdown",
      "source": [
        "<h3>Question 5"
      ],
      "metadata": {
        "id": "GI8RZpo32q54"
      }
    },
    {
      "cell_type": "markdown",
      "source": [
        "<h4>Question:</h4>\n",
        "\n",
        "Write a program that calculates and prints the value according to the given formula:\n",
        "\n",
        "Q = Square root of [(2 _ C _ D)/H]\n",
        "\n",
        "Following are the fixed values of C and H:\n",
        "\n",
        "C is 50. H is 30.\n",
        "\n",
        "D is the variable whose values should be input to your program in a comma-separated sequence.For example Let us assume the following comma separated input sequence is given to the program:\n",
        "\n",
        "100,150,180\n",
        "\n",
        "The output of the program should be:\n",
        "\n",
        "18,22,24"
      ],
      "metadata": {
        "id": "GgBR4Cci2u3-"
      }
    },
    {
      "cell_type": "markdown",
      "source": [
        "<h5>Hints:</h5>\n",
        "If the output received is in decimal form, it should be rounded off to its nearest value (for example, if the output received is 26.0, it should be printed as 26).In case of input data being supplied to the question, it should be assumed to be a console input."
      ],
      "metadata": {
        "id": "HEuG1X05269v"
      }
    },
    {
      "cell_type": "markdown",
      "source": [
        "<h4>Solution"
      ],
      "metadata": {
        "id": "BckMcY4D3Bzf"
      }
    },
    {
      "cell_type": "code",
      "source": [
        "import math as m\n",
        "def cal(D_value):\n",
        "  C,H=50,30\n",
        "  result = []\n",
        "\n",
        "  for d in D_value:\n",
        "    Q = m.sqrt((2*C*int(d))/H)\n",
        "\n",
        "    result.append(round(Q))\n",
        "  return result\n",
        "\n",
        "#Input and output\n",
        "def main():\n",
        "  value=input(\"Enter numbers(comma-seprate the values): \")\n",
        "  d_value=value.split(\",\")\n",
        "\n",
        "  #Calulate Q for each D\n",
        "\n",
        "  result = cal(d_value)\n",
        "  print(result)\n",
        "\n",
        "\n",
        "main()"
      ],
      "metadata": {
        "id": "EBuMHeYM3Tda"
      },
      "execution_count": null,
      "outputs": []
    },
    {
      "cell_type": "markdown",
      "source": [
        "<h4>OR"
      ],
      "metadata": {
        "id": "_poiXsrh3UyL"
      }
    },
    {
      "cell_type": "code",
      "source": [
        "from math import sqrt  # import specific functions as importing all using *\n",
        "\n",
        "# is bad practice\n",
        "\n",
        "C, H = 50, 30\n",
        "\n",
        "\n",
        "def calc(D):\n",
        "    return sqrt((2 * C * D) / H)\n",
        "\n",
        "\n",
        "D = [int(i) for i in input().split(\",\")]  # splits in comma position and set up in list\n",
        "D = [int(i) for i in D]  # converts string to integer\n",
        "D = [calc(i) for i in D]  # returns floating value by calc method for every item in D\n",
        "D = [round(i) for i in D]  # All the floating values are rounded\n",
        "D = [\n",
        "    str(i) for i in D\n",
        "]  # All the integers are converted to string to be able to apply join operation\n",
        "\n",
        "print(\",\".join(D))"
      ],
      "metadata": {
        "colab": {
          "base_uri": "https://localhost:8080/"
        },
        "id": "wxaT-o0w3GvY",
        "outputId": "8fd27215-723e-41f4-f4fb-de517958ef90"
      },
      "execution_count": null,
      "outputs": [
        {
          "output_type": "stream",
          "name": "stdout",
          "text": [
            "100,150,80\n",
            "18,22,16\n"
          ]
        }
      ]
    },
    {
      "cell_type": "markdown",
      "source": [
        "<h5>OR"
      ],
      "metadata": {
        "id": "mczk3Iud3Zzf"
      }
    },
    {
      "cell_type": "code",
      "source": [
        "from math import *  # importing all math functions\n",
        "\n",
        "C, H = 50, 30\n",
        "\n",
        "\n",
        "def calc(D):\n",
        "    D = int(D)\n",
        "    return str(int(sqrt((2 * C * D) / H)))\n",
        "\n",
        "\n",
        "D = input().split(\",\")\n",
        "D = list(map(calc, D))  # applying calc function on D and storing as a list\n",
        "print(\",\".join(D))"
      ],
      "metadata": {
        "colab": {
          "base_uri": "https://localhost:8080/"
        },
        "id": "OE9AV8dd3g5y",
        "outputId": "48fa8cff-1863-4f83-865c-fcf66e92cfac"
      },
      "execution_count": null,
      "outputs": [
        {
          "output_type": "stream",
          "name": "stdout",
          "text": [
            "100,150,80\n",
            "18,22,16\n"
          ]
        }
      ]
    },
    {
      "cell_type": "markdown",
      "source": [
        "<h2>Question 7"
      ],
      "metadata": {
        "id": "_ZIIb1Yr3nT-"
      }
    },
    {
      "cell_type": "markdown",
      "source": [
        "<h5>Question</h5>\n",
        "\n",
        "Write a program which takes 2 digits, X,Y as input and generates a 2-dimensional array. The element value in the i-th row and j-th column of the array should be i*j.\n",
        "\n",
        "Note: i=0,1.., X-1; j=0,1,¡­Y-1. Suppose the following inputs are given to the program: 3,5\n",
        "\n",
        "Then, the output of the program should be:\n",
        "\n",
        "[[0, 0, 0, 0, 0], [0, 1, 2, 3, 4], [0, 2, 4, 6, 8]]\n",
        "\n"
      ],
      "metadata": {
        "id": "HJpvOhQV3sEb"
      }
    },
    {
      "cell_type": "markdown",
      "source": [
        "<h4>Hints:</h4>\n",
        "Note: In case of input data being supplied to the question, it should be assumed to be a console input in a comma-separated form.\n",
        "\n"
      ],
      "metadata": {
        "id": "EVPtC_xf34ZT"
      }
    },
    {
      "cell_type": "markdown",
      "source": [
        "<h3>Solutions"
      ],
      "metadata": {
        "id": "YRO_e6kA3_JV"
      }
    },
    {
      "cell_type": "code",
      "source": [
        "x = int(input(\"Enter the number of row(x): \"))\n",
        "y = int(input(\"Enter the number of column(y): \"))\n",
        "\n",
        "for i in range(x):\n",
        "    for j in range(y):\n",
        "        print(i * j, end=\" \")\n",
        "    print()"
      ],
      "metadata": {
        "id": "bU5xCraL4DSd",
        "colab": {
          "base_uri": "https://localhost:8080/"
        },
        "outputId": "966ae7aa-0cd4-425d-d059-9bbddc803442"
      },
      "execution_count": 13,
      "outputs": [
        {
          "output_type": "stream",
          "name": "stdout",
          "text": [
            "Enter the number of row(x): 3\n",
            "Enter the number of column(y): 4\n",
            "0 0 0 0 \n",
            "0 1 2 3 \n",
            "0 2 4 6 \n"
          ]
        }
      ]
    },
    {
      "cell_type": "markdown",
      "source": [
        "<h3>OR"
      ],
      "metadata": {
        "id": "v9-pJQurfWmk"
      }
    },
    {
      "cell_type": "code",
      "source": [
        "x, y = map(int, input().split(\",\"))\n",
        "matrix = [[i * j for j in range(y)] for i in range(x) ]\n",
        "\n",
        "for row in matrix:\n",
        "    print(row)\n",
        "\n",
        "#OR\n",
        "print(\"\\nOR\\n\")\n",
        "print(matrix)"
      ],
      "metadata": {
        "colab": {
          "base_uri": "https://localhost:8080/"
        },
        "id": "YTss8SATfZLs",
        "outputId": "9cbf754a-4231-43aa-cfc1-dc3c4c9ed2c6"
      },
      "execution_count": 10,
      "outputs": [
        {
          "output_type": "stream",
          "name": "stdout",
          "text": [
            "3,5\n",
            "[0, 0, 0, 0, 0]\n",
            "[0, 1, 2, 3, 4]\n",
            "[0, 2, 4, 6, 8]\n",
            "\n",
            "OR\n",
            "\n",
            "[[0, 0, 0, 0, 0], [0, 1, 2, 3, 4], [0, 2, 4, 6, 8]]\n"
          ]
        }
      ]
    },
    {
      "cell_type": "markdown",
      "source": [
        "<br>\n",
        "<h2>Question 8\n",
        "\n",
        "<br>"
      ],
      "metadata": {
        "id": "ULkzrLdxhF43"
      }
    },
    {
      "cell_type": "markdown",
      "source": [
        "<h4>Question:</h4>\n",
        "Write a program that accepts a comma separated sequence of words as input and prints the words in a comma-separated sequence after sorting them alphabetically.\n",
        "\n",
        "Suppose the following input is supplied to the program:\n",
        "\n",
        "<br>\n",
        "\n",
        "without,hello,bag,world\n",
        "\n",
        "Then, the output should be :\n",
        "\n",
        "bag,hello,without,world\n"
      ],
      "metadata": {
        "id": "w5wbWY9ihRK7"
      }
    },
    {
      "cell_type": "markdown",
      "source": [
        "<h5>Hints:</h5>\n",
        "In case of input data being supplied to the question, it should be assumed to be a console input."
      ],
      "metadata": {
        "id": "JVxE0GY0iWGG"
      }
    },
    {
      "cell_type": "code",
      "source": [
        "txt=map(input(\"Enter the words:\").split(\",\"))\n",
        "txt.sort()\n",
        "print(txt)"
      ],
      "metadata": {
        "id": "aSnT-Nduihcu"
      },
      "execution_count": null,
      "outputs": []
    },
    {
      "cell_type": "markdown",
      "source": [
        "<h2>Questoin 9"
      ],
      "metadata": {
        "id": "PIK59Rq8trnr"
      }
    },
    {
      "cell_type": "markdown",
      "source": [
        "<h4>Question : </h4>\n",
        "Write a program that accepts sequence of lines as input and prints the lines after making all characters in the sentence capitalized.\n",
        "\n",
        "Suppose the following input is supplied to the program:\n",
        "\n",
        "Hello world\n",
        "\n",
        "Practice makes perfect\n",
        "\n",
        "Then, the output should be:\n",
        "\n",
        "HELLO WORLD\n",
        "\n",
        "PRACTICE MAKES PERFECT"
      ],
      "metadata": {
        "id": "7KvmpbvVtyJj"
      }
    },
    {
      "cell_type": "markdown",
      "source": [
        "<h6>Hints:</h6>\n",
        "In case of input data being supplied to the question, it should be assumed to be a console input."
      ],
      "metadata": {
        "id": "H14Ytg35uDHi"
      }
    },
    {
      "cell_type": "code",
      "source": [
        "txt = input(\"Enter the text: \")\n",
        "print(txt.upper())"
      ],
      "metadata": {
        "id": "8-_rAMBYuM_5"
      },
      "execution_count": null,
      "outputs": []
    },
    {
      "cell_type": "markdown",
      "source": [
        "<h4>OR\n"
      ],
      "metadata": {
        "id": "gGiCppqquZOR"
      }
    },
    {
      "cell_type": "code",
      "source": [
        "#using list\n",
        "lines = []\n",
        "while True:\n",
        "    s = input(\"Enter the string:\")\n",
        "    if s:\n",
        "        lines.append(s.upper())\n",
        "    else:\n",
        "        break;\n",
        "\n",
        "for line in lines:\n",
        "    print(line)\n"
      ],
      "metadata": {
        "colab": {
          "base_uri": "https://localhost:8080/"
        },
        "id": "9dJbs9Psudmu",
        "outputId": "5099da73-903a-435f-f883-21d8d468f0c4"
      },
      "execution_count": 15,
      "outputs": [
        {
          "output_type": "stream",
          "name": "stdout",
          "text": [
            "hello \n",
            "x\n",
            "jbnjerngw\n",
            "\n",
            "HELLO \n",
            "X\n",
            "JBNJERNGW\n"
          ]
        }
      ]
    }
  ],
  "metadata": {
    "colab": {
      "provenance": []
    },
    "kernelspec": {
      "display_name": "Python 3",
      "name": "python3"
    },
    "language_info": {
      "name": "python"
    }
  },
  "nbformat": 4,
  "nbformat_minor": 0
}
